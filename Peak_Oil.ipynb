{
  "nbformat": 4,
  "nbformat_minor": 0,
  "metadata": {
    "colab": {
      "provenance": []
    },
    "kernelspec": {
      "name": "python3",
      "display_name": "Python 3"
    },
    "language_info": {
      "name": "python"
    }
  },
  "cells": [
    {
      "cell_type": "code",
      "execution_count": null,
      "metadata": {
        "id": "Om_ZRLvbWG2L"
      },
      "outputs": [],
      "source": [
        "import numpy as np\n",
        "import pandas as pd\n",
        "import matplotlib.pyplot as plt"
      ]
    },
    {
      "cell_type": "code",
      "source": [
        "from google.colab import files\n",
        "\n",
        "\n",
        "uploaded = files.upload()\n"
      ],
      "metadata": {
        "colab": {
          "base_uri": "https://localhost:8080/",
          "height": 74
        },
        "id": "u0y0i89TW8XQ",
        "outputId": "81087835-fdb6-4ade-9b2e-c1f2839bdb4c"
      },
      "execution_count": null,
      "outputs": [
        {
          "output_type": "display_data",
          "data": {
            "text/plain": [
              "<IPython.core.display.HTML object>"
            ],
            "text/html": [
              "\n",
              "     <input type=\"file\" id=\"files-377b83a8-36d0-485c-a37a-f86bf3082fe4\" name=\"files[]\" multiple disabled\n",
              "        style=\"border:none\" />\n",
              "     <output id=\"result-377b83a8-36d0-485c-a37a-f86bf3082fe4\">\n",
              "      Upload widget is only available when the cell has been executed in the\n",
              "      current browser session. Please rerun this cell to enable.\n",
              "      </output>\n",
              "      <script>// Copyright 2017 Google LLC\n",
              "//\n",
              "// Licensed under the Apache License, Version 2.0 (the \"License\");\n",
              "// you may not use this file except in compliance with the License.\n",
              "// You may obtain a copy of the License at\n",
              "//\n",
              "//      http://www.apache.org/licenses/LICENSE-2.0\n",
              "//\n",
              "// Unless required by applicable law or agreed to in writing, software\n",
              "// distributed under the License is distributed on an \"AS IS\" BASIS,\n",
              "// WITHOUT WARRANTIES OR CONDITIONS OF ANY KIND, either express or implied.\n",
              "// See the License for the specific language governing permissions and\n",
              "// limitations under the License.\n",
              "\n",
              "/**\n",
              " * @fileoverview Helpers for google.colab Python module.\n",
              " */\n",
              "(function(scope) {\n",
              "function span(text, styleAttributes = {}) {\n",
              "  const element = document.createElement('span');\n",
              "  element.textContent = text;\n",
              "  for (const key of Object.keys(styleAttributes)) {\n",
              "    element.style[key] = styleAttributes[key];\n",
              "  }\n",
              "  return element;\n",
              "}\n",
              "\n",
              "// Max number of bytes which will be uploaded at a time.\n",
              "const MAX_PAYLOAD_SIZE = 100 * 1024;\n",
              "\n",
              "function _uploadFiles(inputId, outputId) {\n",
              "  const steps = uploadFilesStep(inputId, outputId);\n",
              "  const outputElement = document.getElementById(outputId);\n",
              "  // Cache steps on the outputElement to make it available for the next call\n",
              "  // to uploadFilesContinue from Python.\n",
              "  outputElement.steps = steps;\n",
              "\n",
              "  return _uploadFilesContinue(outputId);\n",
              "}\n",
              "\n",
              "// This is roughly an async generator (not supported in the browser yet),\n",
              "// where there are multiple asynchronous steps and the Python side is going\n",
              "// to poll for completion of each step.\n",
              "// This uses a Promise to block the python side on completion of each step,\n",
              "// then passes the result of the previous step as the input to the next step.\n",
              "function _uploadFilesContinue(outputId) {\n",
              "  const outputElement = document.getElementById(outputId);\n",
              "  const steps = outputElement.steps;\n",
              "\n",
              "  const next = steps.next(outputElement.lastPromiseValue);\n",
              "  return Promise.resolve(next.value.promise).then((value) => {\n",
              "    // Cache the last promise value to make it available to the next\n",
              "    // step of the generator.\n",
              "    outputElement.lastPromiseValue = value;\n",
              "    return next.value.response;\n",
              "  });\n",
              "}\n",
              "\n",
              "/**\n",
              " * Generator function which is called between each async step of the upload\n",
              " * process.\n",
              " * @param {string} inputId Element ID of the input file picker element.\n",
              " * @param {string} outputId Element ID of the output display.\n",
              " * @return {!Iterable<!Object>} Iterable of next steps.\n",
              " */\n",
              "function* uploadFilesStep(inputId, outputId) {\n",
              "  const inputElement = document.getElementById(inputId);\n",
              "  inputElement.disabled = false;\n",
              "\n",
              "  const outputElement = document.getElementById(outputId);\n",
              "  outputElement.innerHTML = '';\n",
              "\n",
              "  const pickedPromise = new Promise((resolve) => {\n",
              "    inputElement.addEventListener('change', (e) => {\n",
              "      resolve(e.target.files);\n",
              "    });\n",
              "  });\n",
              "\n",
              "  const cancel = document.createElement('button');\n",
              "  inputElement.parentElement.appendChild(cancel);\n",
              "  cancel.textContent = 'Cancel upload';\n",
              "  const cancelPromise = new Promise((resolve) => {\n",
              "    cancel.onclick = () => {\n",
              "      resolve(null);\n",
              "    };\n",
              "  });\n",
              "\n",
              "  // Wait for the user to pick the files.\n",
              "  const files = yield {\n",
              "    promise: Promise.race([pickedPromise, cancelPromise]),\n",
              "    response: {\n",
              "      action: 'starting',\n",
              "    }\n",
              "  };\n",
              "\n",
              "  cancel.remove();\n",
              "\n",
              "  // Disable the input element since further picks are not allowed.\n",
              "  inputElement.disabled = true;\n",
              "\n",
              "  if (!files) {\n",
              "    return {\n",
              "      response: {\n",
              "        action: 'complete',\n",
              "      }\n",
              "    };\n",
              "  }\n",
              "\n",
              "  for (const file of files) {\n",
              "    const li = document.createElement('li');\n",
              "    li.append(span(file.name, {fontWeight: 'bold'}));\n",
              "    li.append(span(\n",
              "        `(${file.type || 'n/a'}) - ${file.size} bytes, ` +\n",
              "        `last modified: ${\n",
              "            file.lastModifiedDate ? file.lastModifiedDate.toLocaleDateString() :\n",
              "                                    'n/a'} - `));\n",
              "    const percent = span('0% done');\n",
              "    li.appendChild(percent);\n",
              "\n",
              "    outputElement.appendChild(li);\n",
              "\n",
              "    const fileDataPromise = new Promise((resolve) => {\n",
              "      const reader = new FileReader();\n",
              "      reader.onload = (e) => {\n",
              "        resolve(e.target.result);\n",
              "      };\n",
              "      reader.readAsArrayBuffer(file);\n",
              "    });\n",
              "    // Wait for the data to be ready.\n",
              "    let fileData = yield {\n",
              "      promise: fileDataPromise,\n",
              "      response: {\n",
              "        action: 'continue',\n",
              "      }\n",
              "    };\n",
              "\n",
              "    // Use a chunked sending to avoid message size limits. See b/62115660.\n",
              "    let position = 0;\n",
              "    do {\n",
              "      const length = Math.min(fileData.byteLength - position, MAX_PAYLOAD_SIZE);\n",
              "      const chunk = new Uint8Array(fileData, position, length);\n",
              "      position += length;\n",
              "\n",
              "      const base64 = btoa(String.fromCharCode.apply(null, chunk));\n",
              "      yield {\n",
              "        response: {\n",
              "          action: 'append',\n",
              "          file: file.name,\n",
              "          data: base64,\n",
              "        },\n",
              "      };\n",
              "\n",
              "      let percentDone = fileData.byteLength === 0 ?\n",
              "          100 :\n",
              "          Math.round((position / fileData.byteLength) * 100);\n",
              "      percent.textContent = `${percentDone}% done`;\n",
              "\n",
              "    } while (position < fileData.byteLength);\n",
              "  }\n",
              "\n",
              "  // All done.\n",
              "  yield {\n",
              "    response: {\n",
              "      action: 'complete',\n",
              "    }\n",
              "  };\n",
              "}\n",
              "\n",
              "scope.google = scope.google || {};\n",
              "scope.google.colab = scope.google.colab || {};\n",
              "scope.google.colab._files = {\n",
              "  _uploadFiles,\n",
              "  _uploadFilesContinue,\n",
              "};\n",
              "})(self);\n",
              "</script> "
            ]
          },
          "metadata": {}
        },
        {
          "output_type": "stream",
          "name": "stdout",
          "text": [
            "Saving us-oil.csv to us-oil.csv\n"
          ]
        }
      ]
    },
    {
      "cell_type": "code",
      "source": [
        "# Exercise 15.1\n",
        "\n",
        "uso = pd.read_csv('us-oil.csv') # importing us oil data\n",
        "t_us = np.array(uso['Year']) - 1900 # time array (years)\n",
        "dxdt_us = np.array(uso['Oil production (TWh)']) # oil production array\n",
        "\n",
        "plt.plot(t_us, dxdt_us, 'o')\n",
        "plt.xlabel(\"time / years\")\n",
        "plt.ylabel(\"Oil production / TWh\")\n",
        "plt.show()"
      ],
      "metadata": {
        "colab": {
          "base_uri": "https://localhost:8080/",
          "height": 279
        },
        "id": "KhHHqM33WMyT",
        "outputId": "6300d8f7-a8bb-4c26-d3d8-c7875a05bc25"
      },
      "execution_count": null,
      "outputs": [
        {
          "output_type": "display_data",
          "data": {
            "text/plain": [
              "<Figure size 432x288 with 1 Axes>"
            ],
            "image/png": "[encoded data removed]"
          },
          "metadata": {
            "needs_background": "light"
          }
        }
      ]
    },
    {
      "cell_type": "code",
      "source": [
        "# Exercise 15.2\n",
        "# Numerical solution\n",
        "\n",
        "C_num = 75 # carrying capacity\n",
        "r_num = 1.5\n",
        "t_num =np.linspace(0,10,100) # time\n",
        "h=t_num[1]-t_num[0] # time delta\n",
        "x_num=np.zeros(len(t_num)) # total oil produced\n",
        "\n",
        "for i in range(len(t_num)-1):\n",
        "    x_num[0] = 1\n",
        "    x_num[i+1] = x_num[i] + h * (r_num * x_num[i] * (1 - x_num[i]/C_num)) # expression for x[i+1]\n",
        "\n",
        "plt.plot(t_num, x_num)"
      ],
      "metadata": {
        "colab": {
          "base_uri": "https://localhost:8080/",
          "height": 283
        },
        "id": "qLtpRVQ0WPUW",
        "outputId": "f291924f-5fa9-4309-9cc4-38c3100c67ca"
      },
      "execution_count": null,
      "outputs": [
        {
          "output_type": "execute_result",
          "data": {
            "text/plain": [
              "[<matplotlib.lines.Line2D at 0x7fc77792ab50>]"
            ]
          },
          "metadata": {},
          "execution_count": 7
        },
        {
          "output_type": "display_data",
          "data": {
            "text/plain": [
              "<Figure size 432x288 with 1 Axes>"
            ],
            "image/png": "[encoded data removed]"
          },
          "metadata": {
            "needs_background": "light"
          }
        }
      ]
    },
    {
      "cell_type": "code",
      "source": [
        "#Exercise 15.5\n",
        "\n",
        "def production(x,r,C): # creating a function for production\n",
        "    return r * x * (1 -(x/C))\n",
        "\n",
        "x_mod1 = np.linspace(0,5,1000) # setting the constants\n",
        "r_mod1 = 1\n",
        "C_mod1 = 5\n",
        "dxdt_mod1 = production(x_mod1, r_mod1, C_mod1)\n",
        "plt.plot(x_mod1, dxdt_mod1, 'r', label = 'C = 5')\n",
        "\n",
        "x_mod2 = np.linspace(0,10,1000) # changing C\n",
        "r_mod2 = 1\n",
        "C_mod2 = 10\n",
        "dxdt_mod2 = production(x_mod2, r_mod2, C_mod2)\n",
        "plt.plot(x_mod2, dxdt_mod2, 'b', label = 'C = 10')\n",
        "\n",
        "plt.legend()\n",
        "plt.show()\n",
        "print(\"when C =\", C_mod1, \", dxdt max =\", np.round(max(dxdt_mod1), 2))\n",
        "print(\"when C =\", C_mod2, \", dxdt max =\",np.round(max(dxdt_mod2), 2))"
      ],
      "metadata": {
        "colab": {
          "base_uri": "https://localhost:8080/",
          "height": 301
        },
        "id": "Y17A_QyvXFuy",
        "outputId": "a2ad4795-f9b9-436c-8ab4-35cbb702cd4f"
      },
      "execution_count": null,
      "outputs": [
        {
          "output_type": "display_data",
          "data": {
            "text/plain": [
              "<Figure size 432x288 with 1 Axes>"
            ],
            "image/png": "[encoded data removed]"
          },
          "metadata": {
            "needs_background": "light"
          }
        },
        {
          "output_type": "stream",
          "name": "stdout",
          "text": [
            "when C = 5 , dxdt max = 1.25\n",
            "when C = 10 , dxdt max = 2.5\n"
          ]
        }
      ]
    },
    {
      "cell_type": "code",
      "source": [
        "#Exercise 15.7\n",
        "\n",
        "from scipy import optimize\n",
        "\n",
        "dxdt_c = dxdt_us[0:109] # cropping out the post-2008 spike\n",
        "dxdt_h = np.cumsum(dxdt_c) # accumulating the data, creating s-shape\n",
        "f = dxdt_c/dxdt_h\n",
        "dxdt_hc = dxdt_h[30:] # cropping the values to obtain a more linear trend\n",
        "f_c = f[30:]\n",
        "\n",
        "def linear(x, m, c): # creating a linear function\n",
        "    return m * x + c\n",
        "\n",
        "coeffs=optimize.curve_fit(linear, dxdt_hc, f_c)[0] # calculating the coefficients of the line 'of best fit'\n",
        "\n",
        "x_range = np.linspace(np.min(dxdt_hc), np.max(dxdt_hc), 100) # creating the appropriate range of x values\n",
        "y_fitted = [linear(i, coeffs[0], coeffs[1]) for i in x_range] # creating a fitted line using the coefficients\n",
        "\n",
        "plt.plot(dxdt_hc, f_c,'o')\n",
        "plt.plot(x_range, y_fitted)\n",
        "\n",
        "r = coeffs[1] # using this line to obtain r and C\n",
        "print(\"Therefore, r =\",r)\n",
        "\n",
        "C = - r / coeffs[0]\n",
        "print(\"And c =\", C)"
      ],
      "metadata": {
        "colab": {
          "base_uri": "https://localhost:8080/",
          "height": 301
        },
        "id": "00RANvDbXIl1",
        "outputId": "6ed5c4b7-2909-488c-d1e8-491eb260adea"
      },
      "execution_count": null,
      "outputs": [
        {
          "output_type": "stream",
          "name": "stdout",
          "text": [
            "Therefore, r = 0.06258155555791334\n",
            "And c = 382298.780258337\n"
          ]
        },
        {
          "output_type": "display_data",
          "data": {
            "text/plain": [
              "<Figure size 432x288 with 1 Axes>"
            ],
            "image/png": "[encoded data removed]"
          },
          "metadata": {
            "needs_background": "light"
          }
        }
      ]
    },
    {
      "cell_type": "code",
      "source": [
        "#Exercise 15.8\n",
        "\n",
        "t_c = t_us[:109] # cropping out the 2008 spike\n",
        "\n",
        "x0 = C/(1 + ((C / np.max(dxdt_hc) - 1) * np.exp (r * np.max(t_c)))) # calculating x0 using calculated values of r and C\n",
        "print(x0)\n",
        "\n",
        "dxdt_h_est = C/(1 + ((C - x0) / x0) * np.exp(- r * t_us)) # using this to generate an s-shaped curve\n",
        "\n",
        "dxdt_est = np.diff(dxdt_h_est) # taking the difference between values to obtain a parabola\n",
        "plt.plot(t_us[:-1], dxdt_est)\n",
        "plt.plot(t_us, dxdt_us, 'o')\n",
        "plt.show()"
      ],
      "metadata": {
        "colab": {
          "base_uri": "https://localhost:8080/",
          "height": 283
        },
        "id": "E_mHcM-bXNMa",
        "outputId": "8ccced0a-7aa9-4ade-d7e5-d9d3b406d19e"
      },
      "execution_count": null,
      "outputs": [
        {
          "output_type": "stream",
          "name": "stdout",
          "text": [
            "3387.5443293148533\n"
          ]
        },
        {
          "output_type": "display_data",
          "data": {
            "text/plain": [
              "<Figure size 432x288 with 1 Axes>"
            ],
            "image/png": "[encoded data removed]"
          },
          "metadata": {
            "needs_background": "light"
          }
        }
      ]
    },
    {
      "cell_type": "markdown",
      "source": [
        "Exercise 15.9\n",
        "In theory, the logistic function could be used to model world oil production as it is useful in modelling other, similar examples of resource limited growth, such as population growth or viral infection. However, there are substantial practical limitations which inhibit the efficacy of this model in real world description or prediction. In this case study, the limitation that was most pronounced was the inability of the logistic model to predict the appearance new cycles of growth. This is precisely what happened in the U.S. in 2009 and the result is that, from 2009 onwards, the real-world oil production data did not conform to the estimated curve at all, making the logistic model ineffective for either description or prediction. Another limitation of the predictive powers of this model arises since the initial gradient of the rate of production in the exponential growth phase is similar for a range of values of carrying capacity, making it difficult to use these measurements to meaningfully predict when peak oil production will occur. Therefore, despite its theoretical applicability, the logistic function is totally unreliable in describing or predicting rate of oil production in practice, and this is why all 'peak oil' have been unfounded thus far.\n",
        "Furthermore, when discussing the limiting factor for future oil production, economic viability may be more relevant limiting factor than physical abundance. Ultimately, oil production is driven by industrial profit, so the presence of other supply-limiting constraints such as increased extraction costs or more difficult transportation could drive up oil prices and reduce profit margins. These economic constraints are related to, but not identical to the quantity of oil in the ground, with discrepancies arising due to additional difficulties and inefficiencies in the process of obtaining and distributing oil. If oil production becomes an unprofitable enterprise the supply will decrease or cease altogether, and this is likely to occur well before we use up all our physical oil resources. Consequently, models of economic factors such as extraction costs as a function of time may be more useful in predicting a timeline for oil production.\n",
        "Finally, I would argue that the question is not whether we can continue to supply oil, but whether we should. Humanity's use of oil and other fossil fuels is responsible for the emission of 12.5 GT of CO2 into the atmosphere every year. This is a huge contributing factor in the increase of greenhouse gases content in the atmosphere, which drives global warming and climate change. It is clear that a reduction in oil consumption, and a transition into other, renewable forms of energy production will be necessary in order to control and stabilise the rising global temperature. Certainly, this process will be a slow one, but this should be the primary driving force behind humanity's energy transition and cessation of oil production, rather than a limitation in physical abundance or economic viability.\n",
        "So, to conclude, the logistic function, though theoretically applicable, is not useful in real-world description or prediction of oil production, and our transition away from oil as a primary means of energy production will most likely arise due to factors other than physical abundance, which the logistic function seeks to describe.\n"
      ],
      "metadata": {
        "id": "Ri7kk_vhXS-H"
      }
    },
    {
      "cell_type": "code",
      "source": [],
      "metadata": {
        "id": "BQ8CmgLBXTxY"
      },
      "execution_count": null,
      "outputs": []
    }
  ]
}